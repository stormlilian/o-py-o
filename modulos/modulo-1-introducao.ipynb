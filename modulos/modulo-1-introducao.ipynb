{
  "nbformat": 4,
  "nbformat_minor": 0,
  "metadata": {
    "kernelspec": {
      "display_name": "Python 3",
      "language": "python",
      "name": "python3"
    },
    "language_info": {
      "codemirror_mode": {
        "name": "ipython",
        "version": 3
      },
      "file_extension": ".py",
      "mimetype": "text/x-python",
      "name": "python",
      "nbconvert_exporter": "python",
      "pygments_lexer": "ipython3",
      "version": "3.6.10"
    },
    "colab": {
      "name": "modulo-1-introducao.ipynb",
      "provenance": []
    }
  },
  "cells": [
    {
      "cell_type": "markdown",
      "metadata": {
        "id": "AHTMbBtCfZs5",
        "colab_type": "text"
      },
      "source": [
        "<img src=\"https://github.com/stormlilian/o-py-o/blob/master/imagens/1.png?raw=1\">\n",
        "\n",
        "## Revisando o conteúdo da semana!\n",
        "# Lilian Gomes"
      ]
    },
    {
      "cell_type": "markdown",
      "metadata": {
        "id": "Tj7f4GACfZs9",
        "colab_type": "text"
      },
      "source": [
        "1 - Em uma instrução print, o que acontece se você omitir um dos parênteses ou ambos?"
      ]
    },
    {
      "cell_type": "code",
      "metadata": {
        "id": "FSvPpcPDfZtA",
        "colab_type": "code",
        "colab": {
          "base_uri": "https://localhost:8080/",
          "height": 34
        },
        "outputId": "4f29e66a-6da4-4a3e-878b-7d1bab16c54f"
      },
      "source": [
        "print (\"Grupo de estudo\")"
      ],
      "execution_count": 1,
      "outputs": [
        {
          "output_type": "stream",
          "text": [
            "Grupo de estudo\n"
          ],
          "name": "stdout"
        }
      ]
    },
    {
      "cell_type": "markdown",
      "metadata": {
        "id": "6uXgSNG_fZtK",
        "colab_type": "text"
      },
      "source": [
        "2 - O que acontece se puser um sinal de mais antes de um número? E se escrever assim: 2++2?"
      ]
    },
    {
      "cell_type": "code",
      "metadata": {
        "id": "HJ93u8BHfZtL",
        "colab_type": "code",
        "colab": {}
      },
      "source": [
        ""
      ],
      "execution_count": null,
      "outputs": []
    },
    {
      "cell_type": "markdown",
      "metadata": {
        "id": "v4h90jDTfZtU",
        "colab_type": "text"
      },
      "source": [
        "3 - O que acontece se você tentar usar 02 isso no Python?"
      ]
    },
    {
      "cell_type": "code",
      "metadata": {
        "id": "MFmAoEicfZtV",
        "colab_type": "code",
        "colab": {}
      },
      "source": [
        ""
      ],
      "execution_count": null,
      "outputs": []
    },
    {
      "cell_type": "markdown",
      "metadata": {
        "id": "yzNJiJibfZtb",
        "colab_type": "text"
      },
      "source": [
        "4 - Quantos segundos há em 42 minutos e 42 segundos?"
      ]
    },
    {
      "cell_type": "code",
      "metadata": {
        "id": "bbikWq2GfZtc",
        "colab_type": "code",
        "colab": {}
      },
      "source": [
        ""
      ],
      "execution_count": null,
      "outputs": []
    },
    {
      "cell_type": "markdown",
      "metadata": {
        "id": "abKTi1W5fZth",
        "colab_type": "text"
      },
      "source": [
        "5 - Vimos que n = 42 é legal. E 42 = n?"
      ]
    },
    {
      "cell_type": "code",
      "metadata": {
        "id": "2NE2W5IxfZti",
        "colab_type": "code",
        "colab": {}
      },
      "source": [
        ""
      ],
      "execution_count": null,
      "outputs": []
    },
    {
      "cell_type": "markdown",
      "metadata": {
        "id": "zvDKC7WFfZtm",
        "colab_type": "text"
      },
      "source": [
        "6 - Ou x = y = 1?\n"
      ]
    },
    {
      "cell_type": "code",
      "metadata": {
        "id": "k-d7YmQ4fZto",
        "colab_type": "code",
        "colab": {}
      },
      "source": [
        ""
      ],
      "execution_count": null,
      "outputs": []
    },
    {
      "cell_type": "markdown",
      "metadata": {
        "id": "MlO8w3lNfZtt",
        "colab_type": "text"
      },
      "source": [
        "7 - O que acontece se você puser um ponto e vírgula no fim de uma instrução no Python? E um ponto?"
      ]
    },
    {
      "cell_type": "code",
      "metadata": {
        "id": "iQAUnqVcfZtu",
        "colab_type": "code",
        "colab": {}
      },
      "source": [
        ""
      ],
      "execution_count": null,
      "outputs": []
    },
    {
      "cell_type": "markdown",
      "metadata": {
        "id": "TWr9pNWefZty",
        "colab_type": "text"
      },
      "source": [
        "8 - Em notação matemática é possível multiplicar x e y desta forma: xy. O que acontece se você tentar fazer o mesmo no Python?"
      ]
    },
    {
      "cell_type": "code",
      "metadata": {
        "id": "2xv8BpSFfZtz",
        "colab_type": "code",
        "colab": {}
      },
      "source": [
        ""
      ],
      "execution_count": null,
      "outputs": []
    },
    {
      "cell_type": "markdown",
      "metadata": {
        "id": "GmzlT26ffZt2",
        "colab_type": "text"
      },
      "source": [
        "---"
      ]
    },
    {
      "cell_type": "markdown",
      "metadata": {
        "id": "b6Hw-knIfZt3",
        "colab_type": "text"
      },
      "source": [
        "## Quais são as outras formas de praticar esses conceitos?\n",
        "\n",
        "<img src=\"https://media.giphy.com/media/2wS8Hh619rZvvf95op/giphy.gif\" align=\"left\">"
      ]
    },
    {
      "cell_type": "markdown",
      "metadata": {
        "id": "H89s7B45fZt4",
        "colab_type": "text"
      },
      "source": [
        "<Adicionar atividade de sua preferência para aplicação dos conceitos>"
      ]
    }
  ]
}